{
 "cells": [
  {
   "cell_type": "markdown",
   "metadata": {},
   "source": [
    "# Assignment 1 Report"
   ]
  },
  {
   "cell_type": "markdown",
   "metadata": {},
   "source": [
    "This is an outline for your report to ease the amount of work required to create your report. Jupyter notebook supports markdown, and I recommend you to check out this [cheat sheet](https://github.com/adam-p/markdown-here/wiki/Markdown-Cheatsheet). If you are not familiar with markdown.\n",
    "\n",
    "Before delivery, **remember to convert this file to PDF**. You can do it in two ways:\n",
    "1. Print the webpage (ctrl+P or cmd+P)\n",
    "2. Export with latex. This is somewhat more difficult, but you'll get somehwat of a \"prettier\" PDF. Go to File -> Download as -> PDF via LaTeX. You might have to install nbconvert and pandoc through conda; `conda install nbconvert pandoc`."
   ]
  },
  {
   "cell_type": "markdown",
   "metadata": {},
   "source": [
    "# Task 1"
   ]
  },
  {
   "cell_type": "markdown",
   "metadata": {},
   "source": [
    "## task 1a)\n",
    "\n",
    "Having that:\n",
    "$$ w_{j,i} =: w_{j,i} - \\alpha \\frac{\\partial C}{\\partial w_{j,i}}$$\n",
    "$$ \\frac{\\partial C}{\\partial w_{j,i}} = \\frac{\\partial C}{\\partial z_j}\\frac{\\partial z_j}{\\partial w_{j,i}} = \\delta_j \\frac{\\partial}{\\partial w_{j,i}} \\sum_{i=0}^I w_{j,i}x_i = \\delta_j x_i$$\n",
    "Which shows that:\n",
    "$$ w_{j,i} =: w_{j,i} - \\alpha \\delta_j x_i$$\n",
    "\n",
    "Next we want to show that:\n",
    "$$\\delta_j = f'(z_j)\\sum_k w_{k,j}\\delta_k$$\n",
    "Starting from that $ \\delta_j = \\frac{\\partial C}{\\partial z_j}$. This is the effect on the cross-entropy loss from á spesific node in the hidden layer. This effekt is propagated through the output layer, meaning each output node will contain some of this effect, thus:\n",
    "$$\\delta_j = \\frac{\\partial C}{\\partial z_j} = \\sum_k \\frac{\\partial C}{\\partial z_k} \\frac{\\partial z_k}{\\partial z_j} = \\sum_k \\delta_k \\frac{\\partial z_k}{\\partial z_j}$$\n",
    "$$z_k = \\sum_j w_{k,j} a_j + b_k$$\n",
    "The above formula says that the output of a node is the weighted sum of effects from the previous layer.\n",
    "Moving on from the result of the expanded equation for $\\delta_j$ we have:\n",
    "\n",
    "$$\\frac{\\partial z_k}{\\partial z_j} = \\frac{\\partial z_k}{\\partial a_j} \\frac{\\partial a_j}{\\partial z_j} = w_{k,j} f'(z_j)$$\n",
    "\n",
    "Combining the \"components\" that was found above we get that:\n",
    "$$\\delta_j = f'(z_j) \\sum_k w_{k,j} \\delta_k$$"
   ]
  },
  {
   "cell_type": "markdown",
   "metadata": {},
   "source": [
    "## task 1b)\n",
    "\n",
    "From the hidden layer (j) to the output layer (k), we have:\n",
    "$$ \\bold{W}^{l+1} := \\bold{W}^{l+1} - \\alpha (\\delta^{l+1})^T \\cdot \\bold{a}^l$$\n",
    "Where $l=$ first layer, and $l+1=$ next layer.\n",
    "\n",
    "For input layer (i) to the hidden layer (j) we have:\n",
    "$$ \\bold{W}^{l} := \\bold{W}^{l} - \\alpha (\\delta^{l})^T \\cdot \\bold{x}$$\n",
    "\n",
    "where:\n",
    "$$ \\delta^l = f'(\\bold{z}^l) (\\bold{W}^{l+1})^T \\cdot \\delta^{l+1}$$\n",
    "\n",
    "The dimentions of the matrixes and vectors are as follows:\n",
    "$$ \\bold{x} \\text{ } \\epsilon \\text{ } \\R^I$$\n",
    "$$ \\bold{W}^{l} \\text{ } \\epsilon \\text{ } \\R^{JxI}$$\n",
    "$$ \\bold{\\delta}^l \\text{ } \\epsilon \\text{ } \\R^J$$\n",
    "$$ \\bold{a}^l \\text{ } \\epsilon \\text{ } \\R^J$$\n",
    "$$ \\bold{W}^{l+1} \\text{ } \\epsilon \\text{ } \\R^{KxJ}$$\n",
    "$$ \\bold{\\delta}^{l+1} \\text{ } \\epsilon \\text{ } \\R^K$$"
   ]
  },
  {
   "cell_type": "markdown",
   "metadata": {},
   "source": [
    "# Task 2"
   ]
  },
  {
   "cell_type": "markdown",
   "metadata": {},
   "source": [
    "## Task 2b)\n",
    "![](task2b_binary_train_loss.png)"
   ]
  },
  {
   "cell_type": "markdown",
   "metadata": {},
   "source": [
    "## Task 2c)\n",
    "![](task2b_binary_train_accuracy.png)"
   ]
  },
  {
   "cell_type": "markdown",
   "metadata": {},
   "source": [
    "## Task 2d)\n",
    "FILL IN ANSWER"
   ]
  },
  {
   "cell_type": "markdown",
   "metadata": {},
   "source": [
    "## Task 2e)\n",
    "FILL IN ANSWER\n",
    "![](task2e_train_accuracy_shuffle_difference.png)"
   ]
  },
  {
   "cell_type": "markdown",
   "metadata": {},
   "source": [
    "# Task 3"
   ]
  },
  {
   "cell_type": "markdown",
   "metadata": {},
   "source": [
    "## Task 3b)\n",
    "![](task3b_softmax_train_loss.png)"
   ]
  },
  {
   "cell_type": "markdown",
   "metadata": {},
   "source": [
    "## Task 3c)\n",
    "![](task3b_softmax_train_accuracy.png)"
   ]
  },
  {
   "cell_type": "markdown",
   "metadata": {},
   "source": [
    "## Task 3d)\n",
    "FILL IN ANSWER"
   ]
  },
  {
   "cell_type": "markdown",
   "metadata": {},
   "source": [
    "# Task 4"
   ]
  },
  {
   "cell_type": "markdown",
   "metadata": {},
   "source": [
    "## Task 4a)\n",
    "\n",
    "Fill in image of hand-written notes which are easy to read, or latex equations here"
   ]
  },
  {
   "cell_type": "markdown",
   "metadata": {},
   "source": [
    "## Task 4b)\n",
    "FILL IN ANSWER\n",
    "\n",
    "![](task4b_softmax_weight.png)"
   ]
  },
  {
   "cell_type": "markdown",
   "metadata": {},
   "source": [
    "## Task 4c)\n",
    "FILL IN ANSWER\n",
    "\n",
    "![](task4c_l2_reg_accuracy.png)"
   ]
  },
  {
   "cell_type": "markdown",
   "metadata": {},
   "source": [
    "## Task 4d)\n",
    "![](task4d_l2_reg_norms.png)"
   ]
  },
  {
   "cell_type": "markdown",
   "metadata": {},
   "source": [
    "## Task 4e)\n",
    "FILL IN ANSWER"
   ]
  },
  {
   "cell_type": "markdown",
   "metadata": {},
   "source": [
    "This is an outline for your report to ease the amount of work required to create your report. Jupyter notebook supports markdown, and I recommend you to check out this [cheat sheet](https://github.com/adam-p/markdown-here/wiki/Markdown-Cheatsheet). If you are not familiar with markdown.\n",
    "\n",
    "Before delivery, **remember to convert this file to PDF**. You can do it in two ways:\n",
    "1. Print the webpage (ctrl+P or cmd+P)\n",
    "2. Export with latex. This is somewhat more difficult, but you'll get somehwat of a \"prettier\" PDF. Go to File -> Download as -> PDF via LaTeX. You might have to install nbconvert and pandoc through conda; `conda install nbconvert pandoc`."
   ]
  },
  {
   "cell_type": "markdown",
   "metadata": {},
   "source": [
    "## task 1a)\n",
    "\n",
    "Having that:\n",
    "$$ w_{j,i} =: w_{j,i} - \\alpha \\frac{\\partial C}{\\partial w_{j,i}}$$\n",
    "$$ \\frac{\\partial C}{\\partial w_{j,i}} = \\frac{\\partial C}{\\partial z_j}\\frac{\\partial z_j}{\\partial w_{j,i}} = \\delta_j \\frac{\\partial}{\\partial w_{j,i}} \\sum_{i=0}^I w_{j,i}x_i = \\delta_j x_i$$\n",
    "Which shows that:\n",
    "$$ w_{j,i} =: w_{j,i} - \\alpha \\delta_j x_i$$\n",
    "\n",
    "Next we want to show that:\n",
    "$$\\delta_j = f'(z_j)\\sum_k w_{k,j}\\delta_k$$\n",
    "Starting from that $ \\delta_j = \\frac{\\partial C}{\\partial z_j}$. This is the effect on the cross-entropy loss from á spesific node in the hidden layer. This effekt is propagated through the output layer, meaning each output node will contain some of this effect, thus:\n",
    "$$\\delta_j = \\frac{\\partial C}{\\partial z_j} = \\sum_k \\frac{\\partial C}{\\partial z_k} \\frac{\\partial z_k}{\\partial z_j} = \\sum_k \\delta_k \\frac{\\partial z_k}{\\partial z_j}$$\n",
    "$$z_k = \\sum_j w_{k,j} a_j + b_k$$\n",
    "The above formula says that the output of a node is the weighted sum of effects from the previous layer.\n",
    "Moving on from the result of the expanded equation for $\\delta_j$ we have:\n",
    "\n",
    "$$\\frac{\\partial z_k}{\\partial z_j} = \\frac{\\partial z_k}{\\partial a_j} \\frac{\\partial a_j}{\\partial z_j} = w_{k,j} f'(z_j)$$\n",
    "\n",
    "Combining the \"components\" that was found above we get that:\n",
    "$$\\delta_j = f'(z_j) \\sum_k w_{k,j} \\delta_k$$"
   ]
  },
  {
   "cell_type": "markdown",
   "metadata": {},
   "source": [
    "# Task 2"
   ]
  },
  {
   "cell_type": "markdown",
   "metadata": {},
   "source": [
    "## Task 2c)\n",
    "![](task2b_binary_train_accuracy.png)"
   ]
  },
  {
   "cell_type": "markdown",
   "metadata": {},
   "source": [
    "## Task 2e)\n",
    "FILL IN ANSWER\n",
    "![](task2e_train_accuracy_shuffle_difference.png)"
   ]
  },
  {
   "cell_type": "markdown",
   "metadata": {},
   "source": [
    "## Task 3b)\n",
    "![](task3b_softmax_train_loss.png)"
   ]
  },
  {
   "cell_type": "markdown",
   "metadata": {},
   "source": [
    "## Task 3d)\n",
    "FILL IN ANSWER"
   ]
  },
  {
   "cell_type": "markdown",
   "metadata": {},
   "source": [
    "## Task 4a)\n",
    "\n",
    "Fill in image of hand-written notes which are easy to read, or latex equations here"
   ]
  },
  {
   "cell_type": "markdown",
   "metadata": {},
   "source": [
    "## Task 4c)\n",
    "FILL IN ANSWER\n",
    "\n",
    "![](task4c_l2_reg_accuracy.png)"
   ]
  },
  {
   "cell_type": "markdown",
   "metadata": {},
   "source": [
    "## Task 4e)\n",
    "FILL IN ANSWER"
   ]
  }
 ],
 "metadata": {
  "kernelspec": {
   "display_name": "Python 3.8.1 64-bit ('py38': conda)",
   "language": "python",
   "name": "python38164bitpy38condac1f68ca5407a4349b0d7e37676f2fbb3"
  },
  "language_info": {
   "codemirror_mode": {
    "name": "ipython",
    "version": 3
   },
   "file_extension": ".py",
   "mimetype": "text/x-python",
   "name": "python",
   "nbconvert_exporter": "python",
   "pygments_lexer": "ipython3",
   "version": "3.8.1"
  }
 },
 "nbformat": 4,
 "nbformat_minor": 4
}
