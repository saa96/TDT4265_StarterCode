{
 "cells": [
  {
   "cell_type": "markdown",
   "metadata": {},
   "source": [
    "# Assignment 1 Report"
   ]
  },
  {
   "cell_type": "markdown",
   "metadata": {},
   "source": [
    "This is an outline for your report to ease the amount of work required to create your report. Jupyter notebook supports markdown, and I recommend you to check out this [cheat sheet](https://github.com/adam-p/markdown-here/wiki/Markdown-Cheatsheet). If you are not familiar with markdown.\n",
    "\n",
    "Before delivery, **remember to convert this file to PDF**. You can do it in two ways:\n",
    "1. Print the webpage (ctrl+P or cmd+P)\n",
    "2. Export with latex. This is somewhat more difficult, but you'll get somehwat of a \"prettier\" PDF. Go to File -> Download as -> PDF via LaTeX. You might have to install nbconvert and pandoc through conda; `conda install nbconvert pandoc`."
   ]
  },
  {
   "cell_type": "markdown",
   "metadata": {},
   "source": [
    "# Task 1"
   ]
  },
  {
   "cell_type": "markdown",
   "metadata": {},
   "source": [
    "## task 1a)\n",
    "\n",
    "$$C^n(\\omega) = -(y^n \\cdot ln(\\hat y ^n) + (1-y^n)\\cdot ln(1 - \\hat y ^n))$$\n",
    "$$\\hat y = f(x) = \\frac{1}{1+exp(-z)}, \\rightarrow  z = \\omega^T\\cdot x = \\sum _i^I \\omega_i \\cdot x_i$$\n",
    "Assuming the $y^n$ vector is constant:\n",
    "$$\\frac{\\partial C^n}{\\partial \\omega _i} = -\\frac{\\partial}{\\partial \\omega _i} \\left(y^n \\cdot ln(f(x^n))\\right) - \\frac{\\partial}{\\partial \\omega _i} \\left((1-y^n)\\cdot ln(1 - f(x^n))\\right)$$\n",
    "\n",
    "Performing the partial derivation on the two seperate terms in the previous equation we get:\n",
    "\n",
    "Starting with the first term: \n",
    "$$First = -y^n \\cdot \\frac{\\partial}{\\partial \\omega _i} (ln(f(x^n))) = -y^n \\cdot \\frac{1}{f(x^n)}\\cdot \\frac{\\partial f(x^n)}{\\partial \\omega _i} = -\\frac{y^n}{f(x^n)} \\cdot \\frac{x_i^n \\cdot exp(-z)}{(1+exp(-z))^2} = -y^n \\hat y^n x_i^n \\cdot exp(-z)$$\n",
    "\n",
    "Continuing with the second term:\n",
    "$$Second = -(1-y^n)\\frac{1}{1-f(x^n)} \\cdot \\left(-\\frac{x_i^n \\cdot exp(-z)}{(1+exp(-z))^2} \\right)$$\n",
    "\n",
    "Expanding on what $1-f(x^n)$ is:\n",
    "$$ 1-f(x^n) = \\frac{1+exp(-z)}{1+exp(-z)} - \\frac{1}{1+exp(-z)} = \\frac{exp(-z)}{1+exp(-z)}$$\n",
    "Hence;\n",
    "$$\\frac{1}{1-f(x^n)} = \\frac{1+exp(-z)}{exp(-z)} = \\frac{1}{exp(-z)} \\cdot \\frac{1}{f(x^n)}$$\n",
    "\n",
    "Going back to the $second$ term:\n",
    "$$ -(1-y^n) \\frac{1}{exp(-z)} \\cdot \\frac{1}{f(x^n)} \\cdot \\left(-\\frac{x_i^n \\cdot exp(-z)}{(1+exp(-z))^2} \\right) = -(1-y^n) \\frac{1}{exp(-z)} \\cdot \\frac{1}{f(x^n)} \\cdot (-x_i^n \\cdot exp(-z) \\cdot f(x^n)^2)$$\n",
    "Hence;\n",
    "$$Second = (1-y^n)\\cdot x_i^n \\hat y^n$$\n",
    "\n",
    "This gives us:\n",
    "$$\\frac{\\partial C^n}{\\partial \\omega _i} = x_i^n \\left( -y^n \\hat y^n \\cdot exp(-z) + (1-y^n)\\cdot \\hat y^n\\right) = x_i^n \\left( -y^n \\hat y^n \\cdot exp(-z) + \\hat y^n -y^n \\hat y^n \\right) = x_i^n ( \\hat y^n - y^n \\hat y^n(1-exp(-z)))$$\n",
    "\n",
    "Seeing that $(1-exp(-z)) = \\frac{1}{f(x^n)}, we finaly get:\n",
    "\n",
    "$$\\frac{\\partial C^n}{\\partial \\omega _i} = x_i^n(\\hat y^n - y^n) = -( y^n - \\hat y^n)x_i^n \\rightarrow QED$$\n"
   ]
  },
  {
   "cell_type": "markdown",
   "metadata": {},
   "source": [
    "## task 1a)\n",
    "\n",
    "Fill in task 1a image of hand-written notes which are easy to read, or latex equations here"
   ]
  },
  {
   "cell_type": "markdown",
   "metadata": {},
   "source": [
    "# Task 2"
   ]
  },
  {
   "cell_type": "markdown",
   "metadata": {},
   "source": [
    "## Task 2b)\n",
    "![](task2b_binary_train_loss.png)"
   ]
  },
  {
   "cell_type": "markdown",
   "metadata": {},
   "source": [
    "## Task 2c)\n",
    "![](task2b_binary_train_accuracy.png)"
   ]
  },
  {
   "cell_type": "markdown",
   "metadata": {},
   "source": [
    "## Task 2d)\n",
    "FILL IN ANSWER"
   ]
  },
  {
   "cell_type": "markdown",
   "metadata": {},
   "source": [
    "## Task 2e)\n",
    "FILL IN ANSWER\n",
    "![](task2e_train_accuracy_shuffle_difference.png)"
   ]
  },
  {
   "cell_type": "markdown",
   "metadata": {},
   "source": [
    "# Task 3"
   ]
  },
  {
   "cell_type": "markdown",
   "metadata": {},
   "source": [
    "## Task 3b)\n",
    "![](task3b_softmax_train_loss.png)"
   ]
  },
  {
   "cell_type": "markdown",
   "metadata": {},
   "source": [
    "## Task 3c)\n",
    "![](task3b_softmax_train_accuracy.png)"
   ]
  },
  {
   "cell_type": "markdown",
   "metadata": {},
   "source": [
    "## Task 3d)\n",
    "FILL IN ANSWER"
   ]
  },
  {
   "cell_type": "markdown",
   "metadata": {},
   "source": [
    "# Task 4"
   ]
  },
  {
   "cell_type": "markdown",
   "metadata": {},
   "source": [
    "## Task 4a)\n",
    "\n",
    "Fill in image of hand-written notes which are easy to read, or latex equations here"
   ]
  },
  {
   "cell_type": "markdown",
   "metadata": {},
   "source": [
    "## Task 4b)\n",
    "FILL IN ANSWER\n",
    "\n",
    "![](task4b_softmax_weight.png)"
   ]
  },
  {
   "cell_type": "markdown",
   "metadata": {},
   "source": [
    "## Task 4c)\n",
    "FILL IN ANSWER\n",
    "\n",
    "![](task4c_l2_reg_accuracy.png)"
   ]
  },
  {
   "cell_type": "markdown",
   "metadata": {},
   "source": [
    "## Task 4d)\n",
    "![](task4d_l2_reg_norms.png)"
   ]
  },
  {
   "cell_type": "markdown",
   "metadata": {},
   "source": [
    "## Task 4e)\n",
    "FILL IN ANSWER"
   ]
  }
 ],
 "metadata": {
  "kernelspec": {
   "display_name": "Python 3.8.1 64-bit ('py38': conda)",
   "language": "python",
   "name": "python38164bitpy38condac1f68ca5407a4349b0d7e37676f2fbb3"
  },
  "language_info": {
   "codemirror_mode": {
    "name": "ipython",
    "version": 3
   },
   "file_extension": ".py",
   "mimetype": "text/x-python",
   "name": "python",
   "nbconvert_exporter": "python",
   "pygments_lexer": "ipython3",
   "version": "3.8.1"
  }
 },
 "nbformat": 4,
 "nbformat_minor": 4
}
